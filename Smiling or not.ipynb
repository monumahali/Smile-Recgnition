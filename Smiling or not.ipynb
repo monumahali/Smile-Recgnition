{
 "cells": [
  {
   "cell_type": "code",
   "execution_count": 41,
   "metadata": {},
   "outputs": [],
   "source": [
    "import numpy as np\n",
    "import tensorflow as tf\n",
    "import matplotlib.pyplot as plt\n",
    "import os\n",
    "%matplotlib inline\n",
    "import glob\n",
    "from skimage.color import rgb2lab\n",
    "from skimage.transform import resize\n",
    "from sklearn.model_selection import train_test_split"
   ]
  },
  {
   "cell_type": "code",
   "execution_count": 42,
   "metadata": {},
   "outputs": [],
   "source": [
    "classes = ['negatives', 'positives']\n",
    "num_classes = 2\n",
    "resize_image = (32, 32)"
   ]
  },
  {
   "cell_type": "markdown",
   "metadata": {},
   "source": [
    "### Reading data"
   ]
  },
  {
   "cell_type": "code",
   "execution_count": 43,
   "metadata": {},
   "outputs": [],
   "source": [
    "def to_tf_format(imgs):\n",
    "    return np.stack([img[:, :, np.newaxis] for img in imgs], axis = 0).astype(np.float32)\n",
    "\n",
    "def read_data(classes, num_classes):\n",
    "    images = []\n",
    "    labels = []\n",
    "    \n",
    "    #num_imgs_to_read = 10000\n",
    "    \n",
    "    \n",
    "    for lbl in classes:\n",
    "        #num_img = 0\n",
    "        \n",
    "        if lbl == 'positives':\n",
    "            full_path = os.path.join('SMILEsmileD-master', 'SMILEs') + '/' + lbl + '/' + 'positives7' + '/'\n",
    "            cls = 1\n",
    "        else:\n",
    "            full_path = os.path.join('SMILEsmileD-master', 'SMILEs') + '/' + lbl + '/' + 'negatives7' + '/'\n",
    "            cls = 0\n",
    "        \n",
    "        print('reading folder: {}'.format(full_path))\n",
    "        \n",
    "        \n",
    "        for img in glob.glob(full_path + '*.jpg'):\n",
    "            \n",
    "            #num_img += 1\n",
    "            \n",
    "            image = plt.imread(img)\n",
    "            image = resize(image, resize_image, mode = 'reflect')\n",
    "            image = image.astype(np.float32)\n",
    "            \n",
    "            label = np.zeros((num_classes, ), dtype = np.float32)\n",
    "            label[cls] = 1.0\n",
    "            \n",
    "            images.append(image)\n",
    "            labels.append(label)\n",
    "            \n",
    "            #if num_img == num_imgs_to_read:\n",
    "                #break\n",
    "            \n",
    "    return to_tf_format(images).astype(np.float32), np.matrix(labels).astype(np.float32)"
   ]
  },
  {
   "cell_type": "code",
   "execution_count": 44,
   "metadata": {},
   "outputs": [
    {
     "name": "stdout",
     "output_type": "stream",
     "text": [
      "reading folder: SMILEsmileD-master/SMILEs/negatives/negatives7/\n"
     ]
    },
    {
     "name": "stderr",
     "output_type": "stream",
     "text": [
      "/home/monu/anaconda3/envs/tensorflow/lib/python3.5/site-packages/skimage/transform/_warps.py:110: UserWarning: Anti-aliasing will be enabled by default in skimage 0.15 to avoid aliasing artifacts when down-sampling images.\n",
      "  warn(\"Anti-aliasing will be enabled by default in skimage 0.15 to \"\n"
     ]
    },
    {
     "name": "stdout",
     "output_type": "stream",
     "text": [
      "reading folder: SMILEsmileD-master/SMILEs/positives/positives7/\n"
     ]
    }
   ],
   "source": [
    "X, y = read_data(classes, num_classes)"
   ]
  },
  {
   "cell_type": "code",
   "execution_count": 45,
   "metadata": {},
   "outputs": [
    {
     "name": "stdout",
     "output_type": "stream",
     "text": [
      "X shape: (13165, 32, 32, 1)\n",
      "y shape: (13165, 2)\n"
     ]
    }
   ],
   "source": [
    "X = np.asarray(X)\n",
    "print('X shape:', X.shape)\n",
    "\n",
    "y = np.asarray(y)\n",
    "print('y shape:', y.shape)"
   ]
  },
  {
   "cell_type": "code",
   "execution_count": 46,
   "metadata": {},
   "outputs": [],
   "source": [
    "image_shape = (X.shape[1], X.shape[2])"
   ]
  },
  {
   "cell_type": "code",
   "execution_count": 49,
   "metadata": {},
   "outputs": [
    {
     "name": "stdout",
     "output_type": "stream",
     "text": [
      "[1. 0.]\n"
     ]
    },
    {
     "data": {
      "image/png": "[encoded data removed]",
      "text/plain": [
       "<matplotlib.figure.Figure at 0x7fc1c0bf2ef0>"
      ]
     },
     "metadata": {},
     "output_type": "display_data"
    }
   ],
   "source": [
    "plt.imshow(X[0,:,:,:].reshape((image_shape[0],image_shape[1])))\n",
    "print(y[0, :])"
   ]
  },
  {
   "cell_type": "code",
   "execution_count": 50,
   "metadata": {},
   "outputs": [
    {
     "name": "stdout",
     "output_type": "stream",
     "text": [
      "[0. 1.]\n"
     ]
    },
    {
     "data": {
      "image/png": "[encoded data removed]",
      "text/plain": [
       "<matplotlib.figure.Figure at 0x7fc1c17371d0>"
      ]
     },
     "metadata": {},
     "output_type": "display_data"
    }
   ],
   "source": [
    "plt.imshow(X[-1,:,:,:].reshape((image_shape[0],image_shape[1])))\n",
    "print(y[-1, :])"
   ]
  },
  {
   "cell_type": "code",
   "execution_count": 51,
   "metadata": {},
   "outputs": [],
   "source": [
    "X_train, X_test, y_train, y_test = train_test_split(X, y, test_size = 0.10, random_state = 42)"
   ]
  },
  {
   "cell_type": "code",
   "execution_count": 52,
   "metadata": {},
   "outputs": [
    {
     "name": "stdout",
     "output_type": "stream",
     "text": [
      "X train shape: (11848, 32, 32, 1)\n",
      "X test shape: (1317, 32, 32, 1)\n",
      "y train shape: (11848, 2)\n",
      "y test shape: (1317, 2)\n"
     ]
    }
   ],
   "source": [
    "print('X train shape:', X_train.shape)\n",
    "print('X test shape:', X_test.shape)\n",
    "\n",
    "print('y train shape:', y_train.shape)\n",
    "print('y test shape:', y_test.shape)"
   ]
  },
  {
   "cell_type": "code",
   "execution_count": 53,
   "metadata": {},
   "outputs": [],
   "source": [
    "def batch_gen(data, labels, batch_size):\n",
    "    \n",
    "    for batch_num in range(data.shape[0] // batch_size):\n",
    "        \n",
    "        batch_data = data[batch_num * batch_size : batch_num * batch_size + batch_size]\n",
    "        batch_labels = labels[batch_num * batch_size : batch_num * batch_size + batch_size]\n",
    "    \n",
    "        yield batch_data, batch_labels"
   ]
  },
  {
   "cell_type": "code",
   "execution_count": 54,
   "metadata": {},
   "outputs": [
    {
     "name": "stdout",
     "output_type": "stream",
     "text": [
      "(1000, 32, 32, 1) (1000, 2)\n",
      "(1000, 32, 32, 1) (1000, 2)\n",
      "(1000, 32, 32, 1) (1000, 2)\n",
      "(1000, 32, 32, 1) (1000, 2)\n",
      "(1000, 32, 32, 1) (1000, 2)\n",
      "(1000, 32, 32, 1) (1000, 2)\n",
      "(1000, 32, 32, 1) (1000, 2)\n",
      "(1000, 32, 32, 1) (1000, 2)\n",
      "(1000, 32, 32, 1) (1000, 2)\n",
      "(1000, 32, 32, 1) (1000, 2)\n",
      "(1000, 32, 32, 1) (1000, 2)\n"
     ]
    }
   ],
   "source": [
    "for batch in batch_gen(X_train, y_train, 1000):\n",
    "    print(batch[0].shape, batch[1].shape)"
   ]
  },
  {
   "cell_type": "code",
   "execution_count": 55,
   "metadata": {},
   "outputs": [],
   "source": [
    "def conv_layer(in_tensors, kernel_size, output_depth):\n",
    "    \n",
    "    w = tf.get_variable('conv_w', [kernel_size, kernel_size, in_tensors.get_shape()[3], output_depth], tf.float32, tf.contrib.layers.xavier_initializer())\n",
    "    b = tf.get_variable('conv_b', [output_depth, ], tf.float32, tf.constant_initializer(0.0))\n",
    "    return tf.nn.relu(tf.nn.conv2d(in_tensors, w, [1,1,1,1], 'SAME') + b)"
   ]
  },
  {
   "cell_type": "code",
   "execution_count": 56,
   "metadata": {},
   "outputs": [],
   "source": [
    "def maxpool_layer(in_tensors, kernel_size):\n",
    "    return tf.nn.max_pool(in_tensors, [1, kernel_size, kernel_size, 1], [1,1,1,1], 'SAME')"
   ]
  },
  {
   "cell_type": "code",
   "execution_count": 57,
   "metadata": {},
   "outputs": [],
   "source": [
    "def dropout(in_tensors, keep_proba, is_training):\n",
    "    return tf.cond(is_training, lambda: tf.nn.dropout(in_tensors, keep_proba), lambda: in_tensors)"
   ]
  },
  {
   "cell_type": "code",
   "execution_count": 58,
   "metadata": {},
   "outputs": [],
   "source": [
    "def fc_without_activation_layer(in_tensors, n_units):\n",
    "    \n",
    "    w = tf.get_variable('fc_w', [in_tensors.get_shape()[1], n_units], tf.float32, tf.contrib.layers.xavier_initializer())\n",
    "    b = tf.get_variable('fc_b', [n_units, ], tf.float32, tf.constant_initializer(0.0))\n",
    "    \n",
    "    return tf.matmul(in_tensors, w) + b"
   ]
  },
  {
   "cell_type": "code",
   "execution_count": 59,
   "metadata": {},
   "outputs": [],
   "source": [
    "def fc_layer(in_tensors, n_units):\n",
    "    return tf.nn.relu(fc_without_activation_layer(in_tensors, n_units))"
   ]
  },
  {
   "cell_type": "code",
   "execution_count": 60,
   "metadata": {},
   "outputs": [],
   "source": [
    "def model(in_tensors, is_training):\n",
    "    \n",
    "    with tf.variable_scope('l1'):\n",
    "        l1 = maxpool_layer(conv_layer(in_tensors, 3, 32), 2)\n",
    "        l1_out = dropout(l1, 0.8, is_training)\n",
    "        \n",
    "    with tf.variable_scope('l2'):\n",
    "        l2 = maxpool_layer(conv_layer(l1_out, 3, 64), 2)\n",
    "        l2_out = dropout(l2, 0.8, is_training)\n",
    "        \n",
    "    with tf.variable_scope('flatten'):\n",
    "        l2_out_flat = tf.layers.flatten(l2_out)\n",
    "        \n",
    "    with tf.variable_scope('l3'):\n",
    "        l3 = fc_layer(l2_out_flat, 1024)\n",
    "        l3_out = dropout(l3, 0.6, is_training)\n",
    "        \n",
    "    with tf.variable_scope('out'):\n",
    "        out_tensors = fc_without_activation_layer(l3_out, num_classes)\n",
    "        \n",
    "    return out_tensors"
   ]
  },
  {
   "cell_type": "code",
   "execution_count": 61,
   "metadata": {},
   "outputs": [],
   "source": [
    "def train_model(X_train, y_train, X_test, y_test, learning_rate, num_epochs, batch_size):\n",
    "    \n",
    "    X_batch = tf.placeholder(tf.float32, shape = (None, image_shape[0], image_shape[1], 1))\n",
    "    y_batch = tf.placeholder(tf.float32, shape = (None, num_classes))\n",
    "    is_training = tf.placeholder(tf.bool)\n",
    "    \n",
    "    logits = model(X_batch, is_training)\n",
    "    \n",
    "    out_y_pred = tf.nn.softmax(logits)\n",
    "    \n",
    "    loss_score = tf.nn.softmax_cross_entropy_with_logits_v2(logits = logits, labels = y_batch)\n",
    "    loss = tf.reduce_mean(loss_score)\n",
    "    \n",
    "    optimizer = tf.train.AdamOptimizer(learning_rate).minimize(loss)\n",
    "    \n",
    "    with tf.Session() as sess:\n",
    "        sess.run(tf.global_variables_initializer())\n",
    "        for epoch in range(num_epochs):\n",
    "            print('epoch = ', epoch)\n",
    "            train_loss = []\n",
    "            for batch in batch_gen(X_train, y_train, batch_size):\n",
    "                feed_dict = {X_batch: batch[0], y_batch: batch[1], is_training: True}\n",
    "                _, tf_loss = sess.run([optimizer, loss], feed_dict = feed_dict)\n",
    "                train_loss.append(tf_loss)\n",
    "            print('train loss:', np.mean(train_loss))\n",
    "            \n",
    "        print('TEST SET PERFORMANCE')\n",
    "        \n",
    "        #X_test = X_test[:128]\n",
    "        #y_test = y_test[:128]\n",
    "        \n",
    "        y_test_pred, test_loss = sess.run([out_y_pred, loss], feed_dict = {X_batch: X_test, y_batch: y_test, is_training: False})\n",
    "        \n",
    "        print('test loss:', test_loss)\n",
    "        \n",
    "        y_test_pred_classified = np.argmax(y_test_pred, axis = 1).astype(np.int32)\n",
    "        y_test_true_classified = np.argmax(y_test, axis = 1).astype(np.int32)\n",
    "        \n",
    "        print('test score:', (np.sum(y_test_pred_classified == y_test_true_classified) / len(y_test_true_classified)) * 100)\n",
    "        "
   ]
  },
  {
   "cell_type": "code",
   "execution_count": null,
   "metadata": {},
   "outputs": [
    {
     "name": "stdout",
     "output_type": "stream",
     "text": [
      "epoch =  0\n",
      "train loss: 0.61777234\n",
      "epoch =  1\n",
      "train loss: 0.31202\n",
      "epoch =  2\n",
      "train loss: 0.27817312\n",
      "epoch =  3\n",
      "train loss: 0.26011318\n",
      "epoch =  4\n",
      "train loss: 0.24470021\n",
      "epoch =  5\n",
      "train loss: 0.2379143\n",
      "epoch =  6\n",
      "train loss: 0.22149222\n",
      "epoch =  7\n",
      "train loss: 0.21422927\n",
      "epoch =  8\n",
      "train loss: 0.20148501\n",
      "epoch =  9\n",
      "train loss: 0.19328786\n",
      "epoch =  10\n",
      "train loss: 0.1911144\n",
      "epoch =  11\n",
      "train loss: 0.18054204\n",
      "epoch =  12\n",
      "train loss: 0.17009927\n",
      "epoch =  13\n",
      "train loss: 0.16255344\n",
      "epoch =  14\n",
      "train loss: 0.15495624\n",
      "epoch =  15\n",
      "train loss: 0.1518541\n",
      "epoch =  16\n",
      "train loss: 0.13864008\n",
      "epoch =  17\n",
      "train loss: 0.12969397\n",
      "epoch =  18\n",
      "train loss: 0.12652658\n",
      "epoch =  19\n",
      "train loss: 0.116720065\n",
      "epoch =  20\n",
      "train loss: 0.111709654\n",
      "epoch =  21\n",
      "train loss: 0.104386084\n",
      "epoch =  22\n",
      "train loss: 0.10291667\n",
      "epoch =  23\n",
      "train loss: 0.09886799\n",
      "epoch =  24\n",
      "train loss: 0.09709074\n",
      "epoch =  25\n",
      "train loss: 0.09177878\n",
      "epoch =  26\n",
      "train loss: 0.082362324\n",
      "epoch =  27\n",
      "train loss: 0.08258991\n",
      "epoch =  28\n",
      "train loss: 0.07237175\n",
      "epoch =  29\n",
      "train loss: 0.075388834\n",
      "TEST SET PERFORMANCE\n"
     ]
    }
   ],
   "source": [
    "tf.reset_default_graph()\n",
    "\n",
    "train_model(X_train, y_train, X_test, y_test, 0.001, 30, 32)"
   ]
  },
  {
   "cell_type": "code",
   "execution_count": null,
   "metadata": {},
   "outputs": [],
   "source": []
  }
 ],
 "metadata": {
  "kernelspec": {
   "display_name": "Python 3",
   "language": "python",
   "name": "python3"
  },
  "language_info": {
   "codemirror_mode": {
    "name": "ipython",
    "version": 3
   },
   "file_extension": ".py",
   "mimetype": "text/x-python",
   "name": "python",
   "nbconvert_exporter": "python",
   "pygments_lexer": "ipython3",
   "version": "3.5.4"
  }
 },
 "nbformat": 4,
 "nbformat_minor": 2
}
